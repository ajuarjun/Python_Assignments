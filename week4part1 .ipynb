{
  "nbformat": 4,
  "nbformat_minor": 0,
  "metadata": {
    "colab": {
      "name": "Untitled3.ipynb",
      "version": "0.3.2",
      "provenance": []
    },
    "kernelspec": {
      "name": "python3",
      "display_name": "Python 3"
    }
  },
  "cells": [
    {
      "metadata": {
        "id": "M81PzzqTEzWM",
        "colab_type": "text"
      },
      "cell_type": "markdown",
      "source": [
        "# Assignment: Week 4 Part 1"
      ]
    },
    {
      "metadata": {
        "id": "17SFbdcPE41D",
        "colab_type": "text"
      },
      "cell_type": "markdown",
      "source": [
        "1.Create a student class and initialize it with name and date of birth. Make methods to:\n",
        "\n",
        "SetMarks : Input Marks of 3 subjects.\n",
        "\n",
        "Display : It should display all information (name, roll no,marks(3 subjects))\n",
        "\n",
        "After creating many instances, create methods to :\n",
        "\n",
        "1.   print the students name in alphabetical order\n",
        "2.   another method to list names of students born on a specific month \n",
        "3.   find the name of the student with the highest marks in each subject\n"
      ]
    },
    {
      "metadata": {
        "id": "kRd9zqrSE9FN",
        "colab_type": "code",
        "colab": {}
      },
      "cell_type": "code",
      "source": [
        "class student():\n",
        "  \n",
        "  def __init__(self,nme,roll_num,*args):\n",
        "    self.name = nme\n",
        "    self.dob = args\n",
        "    self.roll = roll_num\n",
        "    \n",
        "  def setmarks(self):\n",
        "    self.mark1=input(\"Enter mark of 1st subject:\")\n",
        "    self.mark2=input(\"Enter mark of 2nd subject:\")\n",
        "    self.mark3=input(\"Enter mark of 3rd subject:\")\n",
        "    \n",
        "  def display(self):\n",
        "    print(self.name,self.roll,self.mark1,self.mark2,self.mark3)\n",
        "\n",
        "  def arrange(self,student):\n",
        "    if self.name<s1.name:\n",
        "        print(s.name)\n",
        "        print(s1.name)\n",
        "    else:\n",
        "      print(s1.name)\n",
        "      print(s.name)\n",
        "      \n",
        "  def spmonth(self,student):\n",
        "    if self.args[1]==s1.args[1]:\n",
        "      print(self.name,s1.name)\n",
        "      \n",
        "      \n",
        "  def high(self,student):\n",
        "    if self.mark1>s1.mark1:\n",
        "      print(self.name+\" got highest marks in subject 1\")\n",
        "      \n",
        "    if self.mark2>s1.mark2:\n",
        "      print(self.name+\" got highest marks in subject 2\")\n",
        "      \n",
        "    if self.mark3>s1.mark3:\n",
        "      print(self.name+\" got highest marks in subject 3\")\n",
        "      \n",
        "    if self.mark1<s1.mark1:\n",
        "      print(s1.name+\" got highest marks in subject 1\")\n",
        "      \n",
        "    if self.mark2<s1.mark2:\n",
        "      print(s1.name+\" got highest marks in subject 2\")\n",
        "      \n",
        "    if self.mark3<s1.mark3:\n",
        "      print(s1.name+\" got highest marks in subject 3\")\n",
        "      \n",
        "    if self.mark1==s1.mark1:\n",
        "      print(self.name+\"and\"+s1.name+\" got highest marks in subject 1\")\n",
        "      \n",
        "    if self.mark2==s1.mark2:\n",
        "      print(self.name+\"and\"+s1.name+\" got highest marks in subject 2\")\n",
        "      \n",
        "    if self.mark3==s1.mark3:\n",
        "      print(self.name+\"and\"+s1.name+\" got highest marks in subject 3\")"
      ],
      "execution_count": 0,
      "outputs": []
    },
    {
      "metadata": {
        "id": "cApNjyApb56K",
        "colab_type": "code",
        "colab": {}
      },
      "cell_type": "code",
      "source": [
        "s=student(\"Ram\",12,1,10,2000)\n",
        "s1=student(\"Sita\",22,3,12,1999)"
      ],
      "execution_count": 0,
      "outputs": []
    },
    {
      "metadata": {
        "id": "PxbAK2eMFBPC",
        "colab_type": "text"
      },
      "cell_type": "markdown",
      "source": [
        "2.For a given array of n integers, the function returns the index of the element with the minimum  value in the array.\n",
        "\n",
        "1. If there is more than one element with the minimum value, the returned index should be the smallest one.\n",
        "\n",
        "2. If an empty array is passed to the function, it should raise an Exception.\n",
        "\n",
        "Refer: Exceptions in Python"
      ]
    },
    {
      "metadata": {
        "id": "XyYScstFFmVN",
        "colab_type": "code",
        "colab": {}
      },
      "cell_type": "code",
      "source": [
        "class emptylisterror(Exception):\n",
        "  pass\n",
        "\n",
        "\n",
        "def arrindex(num,*args):\n",
        "  if args is not ():\n",
        "    try:\n",
        "      return args.index(num)\n",
        "    \n",
        "    except Exception:\n",
        "      print(\"Somethng went wrong\")\n",
        "  else:\n",
        "    print(\"empty\")\n",
        "  \n",
        "  "
      ],
      "execution_count": 0,
      "outputs": []
    },
    {
      "metadata": {
        "id": "jeQbfVb4WAG8",
        "colab_type": "text"
      },
      "cell_type": "markdown",
      "source": [
        "3.Create a Temperature class. Make methods :\n",
        "\n",
        "1. ConvertFahrenheit - It will take celsius and will print into Fahrenheit.\n",
        "\n",
        "2. ConvertCelsius- It will take Fahrenheit and will convert into Celsius.\n",
        "\n",
        "3. Handle exceptions(if input should be celsius and if user inputs Fahrenheit raise error)"
      ]
    },
    {
      "metadata": {
        "id": "R6nfKI2GWN_U",
        "colab_type": "code",
        "colab": {}
      },
      "cell_type": "code",
      "source": [
        "class temperature:\n",
        "  def convertfahrenheit(self,cel):\n",
        "    self.celsius=cel\n",
        "    self.fahrenheit=((9/5)*celsius)+32\n",
        "    return fahrenheit\n",
        "  \n",
        "  def convertcelsius(self,fah):\n",
        "    self.fahrenheit=fah\n",
        "    self.celsius=((fahrenheit-32)*(5/9))\n",
        "    return celsius"
      ],
      "execution_count": 0,
      "outputs": []
    },
    {
      "metadata": {
        "id": "69eA3TaTY7Nj",
        "colab_type": "text"
      },
      "cell_type": "markdown",
      "source": [
        "4. Create a Time class and initialize it with hours and minutes.\n",
        "\n",
        " 1. Make a method displayTime which should print the time.\n",
        "\n",
        " 2. Make a method addTime which should take two time object andadd them. E.g.- (2 hour and 50 min)+(1 hr and 20 min) is (4 hr and10 min)\n",
        " \n",
        " 3. Method DisplayMinute which should display the total minutes inthe Time. E.g.- (1 hr 2 min) should  display 62 minute"
      ]
    },
    {
      "metadata": {
        "id": "mN7yfzRGZNrE",
        "colab_type": "code",
        "colab": {}
      },
      "cell_type": "code",
      "source": [
        "class time():\n",
        "  def __init__(self,hours,minutes):\n",
        "    self.hrs=hours\n",
        "    self.min=minutes\n",
        "    \n",
        "  def addtime(self,time):\n",
        "    self.hrs=self.hrs+t.hrs\n",
        "    self.min=self.min+t.min\n",
        "  \n",
        "  def displayminute(self):\n",
        "    print(self.hrs*60 + self.min)\n",
        "    "
      ],
      "execution_count": 0,
      "outputs": []
    },
    {
      "metadata": {
        "id": "9zNGklwiaQt1",
        "colab_type": "text"
      },
      "cell_type": "markdown",
      "source": [
        "5. Create a class Shape(Parent). From Parent inherit Quadrilateral, Triangle, Rectangle, Circle.Write methods like:\n",
        "\n",
        "  1. GetDimension for each child classes.\n",
        "\n",
        "   2.Methods to find Area and Perimeter of each shape(for quadrilateral, area is not necessary.)\n",
        "\n",
        " 3.In quadrilateral, write another method to check if it is a rectangle.\n",
        " \n",
        " 4. Use inheritence and polymorphism wherever you can."
      ]
    },
    {
      "metadata": {
        "id": "u-XcN2Hfaxye",
        "colab_type": "code",
        "colab": {}
      },
      "cell_type": "code",
      "source": [
        "class shape():\n",
        "  pass\n",
        "\n",
        "class quadrilateral(shape):\n",
        "  def getdimension(self,*args):\n",
        "    self.l=args\n",
        "    \n",
        "  def perimeter(self):\n",
        "    self.p=sum(self.l)\n",
        "    print(self.p)\n",
        "\n",
        "  def rec(self):\n",
        "    if len(l)==4 and len(set(l))==2:\n",
        "      print(\"it may be a rectangle or parallelogram\")\n",
        "    \n",
        "    \n",
        "    \n",
        "    \n",
        "class triangle(shape):\n",
        "  def getdimension(self,a,b,c,h):\n",
        "    self.s1=a\n",
        "    self.s2=b\n",
        "    self.s3=c\n",
        "    self.ht=h\n",
        "    \n",
        "  def perimeter(self):\n",
        "      self.p=s1+s2+s3\n",
        "      print(self.p)\n",
        "      \n",
        "      \n",
        "  def area(self):\n",
        "    self.ar=1/2*ht*s2\n",
        "    print(self.ar)\n",
        "    \n",
        "    \n",
        "class rectangle(shape):\n",
        "  def getdimension(self,l,b):\n",
        "    self.ln=l\n",
        "    self.br=b\n",
        "    \n",
        "  def perimeter(self):\n",
        "     self.p=ln+br\n",
        "     print(self.p)\n",
        "  \n",
        "  def area(self):\n",
        "     self.ar=ln*br\n",
        "     print(self.ar)\n",
        "    \n",
        "    \n",
        "    \n",
        "class circle(shape):\n",
        "  def getdimension(self,r):\n",
        "      self.rd=r\n",
        "      \n",
        "  def perimeter(self):\n",
        "      self.p=2*3.14*rd\n",
        "      print(self.p)\n",
        "      \n",
        "  def area(self):\n",
        "     self.ar=3.14*rd*rd\n",
        "     print(self.ar)"
      ],
      "execution_count": 0,
      "outputs": []
    },
    {
      "metadata": {
        "colab_type": "text",
        "id": "GZpQLTmCZZ28"
      },
      "cell_type": "markdown",
      "source": [
        "6. Define a class “Stock” with the following description:\n",
        "\n",
        "Private Members:\n",
        "\n",
        "1. ICode of type integer(Item code)\n",
        "\n",
        "2. Item of type string(Item Name)\n",
        "\n",
        "3. Price of type float(price of each item)\n",
        "\n",
        "4. Qty of type integer(Qty in stock)\n",
        "\n",
        "5. Discount of type float(Discount percentage on the item)\n",
        "\n",
        "6. A member function FindDisc() to calculate discount as per the following rule              \n",
        "\n",
        "If Qty <= 50  - Discount is 0 \n",
        "\n",
        "If 50<Qty<=100 - Discount is 5  \n",
        "\n",
        "If Qty>100 - Discount is 10\n",
        "\n",
        "Public Members:\n",
        "\n",
        "1. A function Buy() to allow user to enter values for ICode, item,Qtyand call function FindDisc() to calculate the discount\n",
        "\n",
        "2. A function ShowAll() to allow user to view the content of all the data members."
      ]
    },
    {
      "metadata": {
        "id": "Fl8khECzh-_5",
        "colab_type": "code",
        "colab": {}
      },
      "cell_type": "code",
      "source": [
        "class stock():\n",
        "  def __finddisc(self):\n",
        "    if self.__qty <= 50 :\n",
        "      self.__disc=0.0\n",
        "      \n",
        "    if self.__qty > 50 and self.__qty <= 100 :\n",
        "      self.__disc=5.0\n",
        "      \n",
        "    if self.__qty > 100 :\n",
        "      self.__disc=10.0\n",
        "      \n",
        " \n",
        "  def showall(self):\n",
        "    print(self.__icode,self.__item,self.__qty,self.__disc,self.__price)\n",
        "  \n",
        "  \n",
        "  def buy(self,a):\n",
        "    self.__icode=input(\"enter icode:\")\n",
        "    self.__item=input(\"enter item:\")\n",
        "    self.__qty=a\n",
        "    self.__price=input(\"enter price:\")\n",
        "    stock.__finddisc(self)\n",
        "    stock.showall(self)\n",
        "    \n",
        " "
      ],
      "execution_count": 0,
      "outputs": []
    },
    {
      "metadata": {
        "id": "Nh6VmXCoBKzS",
        "colab_type": "text"
      },
      "cell_type": "markdown",
      "source": [
        "7. Declare a class to represent bank account of 10 customers with the following data members. \n",
        "\n",
        "Name of the depositor, Account number, Type of account, (S for savings and C for current), balance amount.\n",
        "\n",
        "The class also contains member functions to do the following:\n",
        "\n",
        "1. To initialize data members\n",
        "\n",
        "2. To deposit money\n",
        "\n",
        "3. To withdraw money after checking the balance(minimum balance in Rs.100)\n",
        "\n",
        "4. To display the data members."
      ]
    },
    {
      "metadata": {
        "id": "TA5yOyzzBo-q",
        "colab_type": "code",
        "colab": {}
      },
      "cell_type": "code",
      "source": [
        "class bankaccount():\n",
        "  def initialize(self,a):\n",
        "    self.name=input(\"enter name\")\n",
        "    self.accnum=input(\"enter account number\")\n",
        "    self.acctype=input(\"enter the type of account\")\n",
        "    self.balance=a\n",
        "    \n",
        "  def deposit(self,depos):\n",
        "    self.balance=self.balance+depos\n",
        "    \n",
        "  def withdraw(self,wdraw):\n",
        "    if self.balance-wdraw>100:\n",
        "      self.balance=self.balance-wdraw\n",
        "    else:\n",
        "      print(\"withdrawal not possible\")\n",
        "      \n",
        "  def display(self):\n",
        "    print(self.name,self.accnum,self.acctype,self.balance)"
      ],
      "execution_count": 0,
      "outputs": []
    },
    {
      "metadata": {
        "id": "Ajr8b6cKHTlA",
        "colab_type": "text"
      },
      "cell_type": "markdown",
      "source": [
        "8. Write a python program to make a simple Calculator that can add, subtract, multiply or divide depending upon the input.\n",
        "\n",
        "Note: Use functions with arguments"
      ]
    },
    {
      "metadata": {
        "id": "BmIwUX5SHXOG",
        "colab_type": "code",
        "colab": {}
      },
      "cell_type": "code",
      "source": [
        "def calculator(a,b,o):\n",
        "  if o == '+':\n",
        "    return a+b\n",
        "  \n",
        "  if o == '-':\n",
        "    return a-b\n",
        "\n",
        "  if o == '*':\n",
        "    return a*b\n",
        "  \n",
        "  if o == '/':\n",
        "    return a/b\n",
        "  \n",
        "  if o == '%':\n",
        "    return a%b\n",
        "  \n",
        "def entercal(x,y,op) : \n",
        "  o=op\n",
        "  a=x\n",
        "  b=y\n",
        "  c=calculator(a,b,o)\n",
        "  print(\"The result is \",c)"
      ],
      "execution_count": 0,
      "outputs": []
    },
    {
      "metadata": {
        "id": "Umf1Tjg0LrXp",
        "colab_type": "text"
      },
      "cell_type": "markdown",
      "source": [
        "9..Define a class TESTMATCH in PYTHON with the following description :  \n",
        "\n",
        "Private Members :\n",
        "\n",
        "1. TestCode of type integer\n",
        "\n",
        "2. Description of type string\n",
        "\n",
        "3. NoOfCandidates of type integer\n",
        "\n",
        "4. CenterReqd (number of centres required) of type integer\n",
        "\n",
        "5. A member function CALCULATECNTR() to calculate and return the number of centres as (NoOfCandidates / 100 + 1)\n",
        "\n",
        "Public Members :\n",
        "\n",
        "1. A function GETDATA() to allow user to enter values for TestCode, Description, NoOfCandidates & call function CALCULATECNTR() to calculate the number of centres.\n",
        "\n",
        "2. A function PUTDATA() to allow user to view the content of all the data members in the following format :\n",
        "\n",
        " 1. TEST MATCH INFORMATION____________________________\n",
        " \n",
        " 2. Test Match Code      : __________________________\n",
        " \n",
        " 3. Description               : __________________________\n",
        " \n",
        " 4. Total Candidates      : __________________________\n",
        " \n",
        " 5. Centers Required     : __________________________"
      ]
    },
    {
      "metadata": {
        "id": "1oWkSAx8MYEZ",
        "colab_type": "code",
        "colab": {}
      },
      "cell_type": "code",
      "source": [
        "class testmatch():\n",
        "  def __calculatecntr(self):\n",
        "    self.__centerreqd=self.__noofcandidates/100+1\n",
        "    \n",
        "  def getdata(self,numc):\n",
        "    self.__testcode=input(\"enter testcode\")\n",
        "    self.__description=input(\"enter description\")\n",
        "    self.__noofcandidates=numc\n",
        "    self.__calculatecntr()\n",
        "    \n",
        "  def putdata(self):\n",
        "    print(\"1.TEST INFORMATION\\n 2.Test Match Code:\",self.__testcode)\n",
        "    print(\"\\n3. Description:\",self.__description)\n",
        "    print(\"\\n4. Total Candidates:\",self.__noofcandidates)\n",
        "    print(\"\\n5. Centers Required:\",self.__centerreqd)"
      ],
      "execution_count": 0,
      "outputs": []
    },
    {
      "metadata": {
        "id": "xhQTnnmnPojJ",
        "colab_type": "text"
      },
      "cell_type": "markdown",
      "source": [
        "10. Write a PYTHON program to perform various operations on a string class without using  language supported built-in string functions. The operations on a class are :\n",
        "\n",
        "\n",
        "1. Read a string\n",
        "\n",
        "2. Display the string\n",
        "\n",
        "3. Reverse the string\n",
        "\n",
        "4. Copy the string into an empty string\n",
        "\n",
        "5. Concatenate two strings."
      ]
    },
    {
      "metadata": {
        "id": "AD4PQpAcP6PQ",
        "colab_type": "code",
        "colab": {}
      },
      "cell_type": "code",
      "source": [
        "class string():\n",
        "  def read(self):\n",
        "      ch=input()\n",
        "      self.st=ch\n",
        "      \n",
        "      \n",
        "  def display(self):\n",
        "    print(self.st)\n",
        "    \n",
        "  def reverse(self):\n",
        "    self.re=self.st[::-1]\n",
        "    print(self.re)\n",
        "    \n",
        "  def copy(self):\n",
        "    self.l=self.st\n",
        "    print(self.l)\n",
        "    \n",
        "  def con(self,s2):\n",
        "      self.st=self.st+s2"
      ],
      "execution_count": 0,
      "outputs": []
    }
  ]
}